{
 "cells": [
  {
   "cell_type": "code",
   "execution_count": 1,
   "metadata": {},
   "outputs": [],
   "source": [
    "import requests\n",
    "import json\n",
    "import time\n",
    "\n",
    "API_KEY = \"456a129b2990178516e5e69f5a8d5a74\"\n",
    "BASE_URL = \"https://api.themoviedb.org/3\"\n"
   ]
  },
  {
   "cell_type": "code",
   "execution_count": 6,
   "metadata": {},
   "outputs": [],
   "source": [
    "headers = {\n",
    "    \"Authorization\": f\"Bearer {API_KEY}\",\n",
    "    \"Content-Type\": \"application/json\"\n",
    "}\n",
    "\n",
    "def get_movie_details(movie_id):\n",
    "    url = f\"{BASE_URL}/movie/{movie_id}?api_key={API_KEY}&language=en-US\"\n",
    "    response = requests.get(url)\n",
    "    if response.status_code == 200:\n",
    "        return response.json()\n",
    "    return None\n",
    "\n",
    "def get_movie_credits(movie_id):\n",
    "    url = f\"{BASE_URL}/movie/{movie_id}/credits?api_key={API_KEY}\"\n",
    "    response = requests.get(url)\n",
    "    if response.status_code == 200:\n",
    "        credits = response.json()\n",
    "        director = next((crew[\"name\"] for crew in credits[\"crew\"] if crew[\"job\"] == \"Director\"), \"Unknown\")\n",
    "        cast = [actor[\"name\"] for actor in credits[\"cast\"][:5]]\n",
    "        return director, cast\n",
    "    return \"Unknown\", []\n",
    "\n",
    "def save_to_json(data, filename=\"movies.json\"):\n",
    "    with open(filename, \"w\", encoding=\"utf-8\") as f:\n",
    "        json.dump(data, f, indent=4, ensure_ascii=False)\n",
    "\n",
    "def fetch_and_store_movies(num_movies=100):\n",
    "    all_movies = []\n",
    "    page = 1\n",
    "\n",
    "    while len(all_movies) < num_movies:\n",
    "        url = f\"{BASE_URL}/movie/popular?api_key={API_KEY}&language=en-US&page={page}\"\n",
    "        response = requests.get(url)\n",
    "\n",
    "        if response.status_code != 200:\n",
    "            print(f\"Failed to fetch page {page}. Status: {response.status_code}\")\n",
    "            break\n",
    "\n",
    "        movies = response.json()[\"results\"]\n",
    "        if not movies:\n",
    "            print(\"No more movies available.\")\n",
    "            break\n",
    "\n",
    "        for movie in movies:\n",
    "            if len(all_movies) >= num_movies:\n",
    "                break  # Ensure we do not fetch more than required\n",
    "\n",
    "            movie_id = movie[\"id\"]\n",
    "            details = get_movie_details(movie_id)\n",
    "            if not details:\n",
    "                continue  # Skip if movie details are missing\n",
    "\n",
    "            director, cast = get_movie_credits(movie_id)\n",
    "\n",
    "            movie_data = {\n",
    "                \"title\": details[\"title\"],\n",
    "                \"description\": details[\"overview\"],\n",
    "                \"director\": director,\n",
    "                \"cast\": cast,\n",
    "                \"poster_url\": f\"https://image.tmdb.org/t/p/w500{details['poster_path']}\" if details[\"poster_path\"] else \"N/A\"\n",
    "            }\n",
    "\n",
    "            all_movies.append(movie_data)\n",
    "\n",
    "        page += 1\n",
    "        time.sleep(1)\n",
    "\n",
    "    save_to_json(all_movies)\n",
    "    print(f\"Saved {len(all_movies)} movies to movies.json\")"
   ]
  },
  {
   "cell_type": "code",
   "execution_count": 7,
   "metadata": {},
   "outputs": [
    {
     "name": "stdout",
     "output_type": "stream",
     "text": [
      "Failed to fetch page 1. Status: 401\n",
      "Saved 0 movies to movies.json\n"
     ]
    }
   ],
   "source": [
    "fetch_and_store_movies(50)"
   ]
  },
  {
   "cell_type": "code",
   "execution_count": null,
   "metadata": {},
   "outputs": [],
   "source": []
  }
 ],
 "metadata": {
  "kernelspec": {
   "display_name": "Python 3",
   "language": "python",
   "name": "python3"
  },
  "language_info": {
   "codemirror_mode": {
    "name": "ipython",
    "version": 3
   },
   "file_extension": ".py",
   "mimetype": "text/x-python",
   "name": "python",
   "nbconvert_exporter": "python",
   "pygments_lexer": "ipython3",
   "version": "3.11.9"
  }
 },
 "nbformat": 4,
 "nbformat_minor": 2
}
